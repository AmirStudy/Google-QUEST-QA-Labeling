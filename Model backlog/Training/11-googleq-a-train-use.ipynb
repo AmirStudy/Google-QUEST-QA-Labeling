{
 "cells": [
  {
   "cell_type": "markdown",
   "metadata": {},
   "source": [
    "## Dependencies"
   ]
  },
  {
   "cell_type": "code",
   "execution_count": 1,
   "metadata": {
    "_cell_guid": "b1076dfc-b9ad-4769-8c92-a6c4dae69d19",
    "_kg_hide-input": true,
    "_uuid": "8f2839f25d086af736a60e9eeb907d3b93b6e0e5"
   },
   "outputs": [],
   "source": [
    "import re\n",
    "import warnings\n",
    "import pandas as pd\n",
    "import tensorflow_hub as hub\n",
    "from tensorflow.keras import Model, optimizers\n",
    "from tensorflow.keras.layers import Lambda, Input, Dense, Dropout, Concatenate, BatchNormalization, Activation\n",
    "from tensorflow.keras.callbacks import EarlyStopping, ReduceLROnPlateau\n",
    "from googleqa_utilityscript import *\n",
    "\n",
    "\n",
    "SEED = 0\n",
    "seed_everything(SEED)\n",
    "warnings.filterwarnings(\"ignore\")"
   ]
  },
  {
   "cell_type": "markdown",
   "metadata": {},
   "source": [
    "## Load data"
   ]
  },
  {
   "cell_type": "code",
   "execution_count": 2,
   "metadata": {
    "_kg_hide-input": true
   },
   "outputs": [
    {
     "name": "stdout",
     "output_type": "stream",
     "text": [
      "Train samples: 4863\n",
      "Validation samples: 1216\n"
     ]
    },
    {
     "data": {
      "text/html": [
       "<div>\n",
       "<style scoped>\n",
       "    .dataframe tbody tr th:only-of-type {\n",
       "        vertical-align: middle;\n",
       "    }\n",
       "\n",
       "    .dataframe tbody tr th {\n",
       "        vertical-align: top;\n",
       "    }\n",
       "\n",
       "    .dataframe thead th {\n",
       "        text-align: right;\n",
       "    }\n",
       "</style>\n",
       "<table border=\"1\" class=\"dataframe\">\n",
       "  <thead>\n",
       "    <tr style=\"text-align: right;\">\n",
       "      <th></th>\n",
       "      <th>qa_id</th>\n",
       "      <th>question_title</th>\n",
       "      <th>question_body</th>\n",
       "      <th>question_user_name</th>\n",
       "      <th>question_user_page</th>\n",
       "      <th>answer</th>\n",
       "      <th>answer_user_name</th>\n",
       "      <th>answer_user_page</th>\n",
       "      <th>url</th>\n",
       "      <th>category</th>\n",
       "      <th>...</th>\n",
       "      <th>answer_helpful</th>\n",
       "      <th>answer_level_of_information</th>\n",
       "      <th>answer_plausible</th>\n",
       "      <th>answer_relevance</th>\n",
       "      <th>answer_satisfaction</th>\n",
       "      <th>answer_type_instructions</th>\n",
       "      <th>answer_type_procedure</th>\n",
       "      <th>answer_type_reason_explanation</th>\n",
       "      <th>answer_well_written</th>\n",
       "      <th>set</th>\n",
       "    </tr>\n",
       "  </thead>\n",
       "  <tbody>\n",
       "    <tr>\n",
       "      <th>0</th>\n",
       "      <td>3895</td>\n",
       "      <td>Magento (1.7) Bundled Product with FREE Produc...</td>\n",
       "      <td>I'm looking to create a bundle offer where cus...</td>\n",
       "      <td>Joe</td>\n",
       "      <td>https://magento.stackexchange.com/users/16572</td>\n",
       "      <td>Since the third item is fixed, you can use sho...</td>\n",
       "      <td>Fabian Schmengler</td>\n",
       "      <td>https://magento.stackexchange.com/users/243</td>\n",
       "      <td>http://magento.stackexchange.com/questions/668...</td>\n",
       "      <td>TECHNOLOGY</td>\n",
       "      <td>...</td>\n",
       "      <td>0.888889</td>\n",
       "      <td>0.666667</td>\n",
       "      <td>1.0</td>\n",
       "      <td>1.0</td>\n",
       "      <td>0.933333</td>\n",
       "      <td>1.000000</td>\n",
       "      <td>0.000000</td>\n",
       "      <td>0.333333</td>\n",
       "      <td>0.888889</td>\n",
       "      <td>train</td>\n",
       "    </tr>\n",
       "    <tr>\n",
       "      <th>1</th>\n",
       "      <td>3131</td>\n",
       "      <td>Find router on network</td>\n",
       "      <td>I've just bought a Belkin N+ Wireless Router. ...</td>\n",
       "      <td>Guy</td>\n",
       "      <td>https://superuser.com/users/3248</td>\n",
       "      <td>You likely have the router plugged in to the m...</td>\n",
       "      <td>John T</td>\n",
       "      <td>https://superuser.com/users/1931</td>\n",
       "      <td>http://superuser.com/questions/87212</td>\n",
       "      <td>TECHNOLOGY</td>\n",
       "      <td>...</td>\n",
       "      <td>1.000000</td>\n",
       "      <td>0.666667</td>\n",
       "      <td>1.0</td>\n",
       "      <td>1.0</td>\n",
       "      <td>0.866667</td>\n",
       "      <td>0.666667</td>\n",
       "      <td>0.000000</td>\n",
       "      <td>1.000000</td>\n",
       "      <td>1.000000</td>\n",
       "      <td>train</td>\n",
       "    </tr>\n",
       "    <tr>\n",
       "      <th>2</th>\n",
       "      <td>1507</td>\n",
       "      <td>Negatively curved metrics minimizing the lengt...</td>\n",
       "      <td>Good afternoon everyone !\\n\\nI have the follow...</td>\n",
       "      <td>Selim G</td>\n",
       "      <td>https://mathoverflow.net/users/25511</td>\n",
       "      <td>A very partial answer: by the results of Richa...</td>\n",
       "      <td>Igor Rivin</td>\n",
       "      <td>https://mathoverflow.net/users/11142</td>\n",
       "      <td>http://mathoverflow.net/questions/203422</td>\n",
       "      <td>SCIENCE</td>\n",
       "      <td>...</td>\n",
       "      <td>0.888889</td>\n",
       "      <td>0.333333</td>\n",
       "      <td>1.0</td>\n",
       "      <td>1.0</td>\n",
       "      <td>0.700000</td>\n",
       "      <td>0.333333</td>\n",
       "      <td>0.333333</td>\n",
       "      <td>1.000000</td>\n",
       "      <td>0.888889</td>\n",
       "      <td>train</td>\n",
       "    </tr>\n",
       "    <tr>\n",
       "      <th>3</th>\n",
       "      <td>6784</td>\n",
       "      <td>Isn’t the FAQ label obsolete by now?</td>\n",
       "      <td>Don’t get me wrong in the beginning of reading...</td>\n",
       "      <td>Benny Skogberg</td>\n",
       "      <td>https://ux.stackexchange.com/users/4679</td>\n",
       "      <td>Isn’t the FAQ label obsolete by now? \\n\\nI'd s...</td>\n",
       "      <td>Solracnapod</td>\n",
       "      <td>https://ux.stackexchange.com/users/13153</td>\n",
       "      <td>http://ux.stackexchange.com/questions/18600/is...</td>\n",
       "      <td>TECHNOLOGY</td>\n",
       "      <td>...</td>\n",
       "      <td>0.888889</td>\n",
       "      <td>0.666667</td>\n",
       "      <td>1.0</td>\n",
       "      <td>1.0</td>\n",
       "      <td>0.933333</td>\n",
       "      <td>0.000000</td>\n",
       "      <td>0.000000</td>\n",
       "      <td>0.666667</td>\n",
       "      <td>1.000000</td>\n",
       "      <td>train</td>\n",
       "    </tr>\n",
       "    <tr>\n",
       "      <th>4</th>\n",
       "      <td>2135</td>\n",
       "      <td>Changing background image one time on responsi...</td>\n",
       "      <td>The code I'm using is this one \\n\\nbackground:...</td>\n",
       "      <td>user2141649</td>\n",
       "      <td>https://stackoverflow.com/users/2141649</td>\n",
       "      <td>&amp;lt;!DOCTYPE html&amp;gt;\\n&amp;lt;html&amp;gt;\\n&amp;lt;head&amp;...</td>\n",
       "      <td>akkimads</td>\n",
       "      <td>https://stackoverflow.com/users/2375373</td>\n",
       "      <td>http://stackoverflow.com/questions/16359492/ch...</td>\n",
       "      <td>STACKOVERFLOW</td>\n",
       "      <td>...</td>\n",
       "      <td>0.888889</td>\n",
       "      <td>0.500000</td>\n",
       "      <td>1.0</td>\n",
       "      <td>1.0</td>\n",
       "      <td>0.800000</td>\n",
       "      <td>1.000000</td>\n",
       "      <td>0.000000</td>\n",
       "      <td>0.000000</td>\n",
       "      <td>0.777778</td>\n",
       "      <td>train</td>\n",
       "    </tr>\n",
       "  </tbody>\n",
       "</table>\n",
       "<p>5 rows × 42 columns</p>\n",
       "</div>"
      ],
      "text/plain": [
       "   qa_id                                     question_title  \\\n",
       "0   3895  Magento (1.7) Bundled Product with FREE Produc...   \n",
       "1   3131                             Find router on network   \n",
       "2   1507  Negatively curved metrics minimizing the lengt...   \n",
       "3   6784               Isn’t the FAQ label obsolete by now?   \n",
       "4   2135  Changing background image one time on responsi...   \n",
       "\n",
       "                                       question_body question_user_name  \\\n",
       "0  I'm looking to create a bundle offer where cus...                Joe   \n",
       "1  I've just bought a Belkin N+ Wireless Router. ...                Guy   \n",
       "2  Good afternoon everyone !\\n\\nI have the follow...            Selim G   \n",
       "3  Don’t get me wrong in the beginning of reading...     Benny Skogberg   \n",
       "4  The code I'm using is this one \\n\\nbackground:...        user2141649   \n",
       "\n",
       "                              question_user_page  \\\n",
       "0  https://magento.stackexchange.com/users/16572   \n",
       "1               https://superuser.com/users/3248   \n",
       "2           https://mathoverflow.net/users/25511   \n",
       "3        https://ux.stackexchange.com/users/4679   \n",
       "4        https://stackoverflow.com/users/2141649   \n",
       "\n",
       "                                              answer   answer_user_name  \\\n",
       "0  Since the third item is fixed, you can use sho...  Fabian Schmengler   \n",
       "1  You likely have the router plugged in to the m...             John T   \n",
       "2  A very partial answer: by the results of Richa...         Igor Rivin   \n",
       "3  Isn’t the FAQ label obsolete by now? \\n\\nI'd s...        Solracnapod   \n",
       "4  &lt;!DOCTYPE html&gt;\\n&lt;html&gt;\\n&lt;head&...           akkimads   \n",
       "\n",
       "                              answer_user_page  \\\n",
       "0  https://magento.stackexchange.com/users/243   \n",
       "1             https://superuser.com/users/1931   \n",
       "2         https://mathoverflow.net/users/11142   \n",
       "3     https://ux.stackexchange.com/users/13153   \n",
       "4      https://stackoverflow.com/users/2375373   \n",
       "\n",
       "                                                 url       category  ...  \\\n",
       "0  http://magento.stackexchange.com/questions/668...     TECHNOLOGY  ...   \n",
       "1               http://superuser.com/questions/87212     TECHNOLOGY  ...   \n",
       "2           http://mathoverflow.net/questions/203422        SCIENCE  ...   \n",
       "3  http://ux.stackexchange.com/questions/18600/is...     TECHNOLOGY  ...   \n",
       "4  http://stackoverflow.com/questions/16359492/ch...  STACKOVERFLOW  ...   \n",
       "\n",
       "  answer_helpful  answer_level_of_information  answer_plausible  \\\n",
       "0       0.888889                     0.666667               1.0   \n",
       "1       1.000000                     0.666667               1.0   \n",
       "2       0.888889                     0.333333               1.0   \n",
       "3       0.888889                     0.666667               1.0   \n",
       "4       0.888889                     0.500000               1.0   \n",
       "\n",
       "   answer_relevance  answer_satisfaction  answer_type_instructions  \\\n",
       "0               1.0             0.933333                  1.000000   \n",
       "1               1.0             0.866667                  0.666667   \n",
       "2               1.0             0.700000                  0.333333   \n",
       "3               1.0             0.933333                  0.000000   \n",
       "4               1.0             0.800000                  1.000000   \n",
       "\n",
       "   answer_type_procedure  answer_type_reason_explanation  answer_well_written  \\\n",
       "0               0.000000                        0.333333             0.888889   \n",
       "1               0.000000                        1.000000             1.000000   \n",
       "2               0.333333                        1.000000             0.888889   \n",
       "3               0.000000                        0.666667             1.000000   \n",
       "4               0.000000                        0.000000             0.777778   \n",
       "\n",
       "     set  \n",
       "0  train  \n",
       "1  train  \n",
       "2  train  \n",
       "3  train  \n",
       "4  train  \n",
       "\n",
       "[5 rows x 42 columns]"
      ]
     },
     "metadata": {},
     "output_type": "display_data"
    }
   ],
   "source": [
    "hold_out = pd.read_csv('/kaggle/input/googleqa-mldataset/hold-out.csv')\n",
    "train = hold_out[hold_out['set'] == 'train']\n",
    "validation = hold_out[hold_out['set'] == 'validation']\n",
    "\n",
    "print('Train samples: %s' % len(train))\n",
    "print('Validation samples: %s' % len(validation))\n",
    "display(train.head())"
   ]
  },
  {
   "cell_type": "code",
   "execution_count": 3,
   "metadata": {
    "_kg_hide-input": true
   },
   "outputs": [],
   "source": [
    "question_target_cols = ['question_asker_intent_understanding','question_body_critical', 'question_conversational', \n",
    "                        'question_expect_short_answer', 'question_fact_seeking', 'question_has_commonly_accepted_answer',\n",
    "                        'question_interestingness_others', 'question_interestingness_self', 'question_multi_intent', \n",
    "                        'question_not_really_a_question', 'question_opinion_seeking', 'question_type_choice',\n",
    "                        'question_type_compare', 'question_type_consequence', 'question_type_definition', \n",
    "                        'question_type_entity', 'question_type_instructions', 'question_type_procedure',\n",
    "                        'question_type_reason_explanation', 'question_type_spelling', 'question_well_written']\n",
    "answer_target_cols = ['answer_helpful', 'answer_level_of_information', 'answer_plausible', 'answer_relevance',\n",
    "                      'answer_satisfaction', 'answer_type_instructions', 'answer_type_procedure', \n",
    "                      'answer_type_reason_explanation', 'answer_well_written']\n",
    "target_cols = question_target_cols + answer_target_cols"
   ]
  },
  {
   "cell_type": "markdown",
   "metadata": {},
   "source": [
    "## Pre-process data"
   ]
  },
  {
   "cell_type": "code",
   "execution_count": 4,
   "metadata": {},
   "outputs": [],
   "source": [
    "find = re.compile(r\"^[^.]*\")\n",
    "text_features = ['question_title', 'question_body', 'answer']\n",
    "\n",
    "for feature in text_features:\n",
    "    # Remove punctuaction\n",
    "    train[feature] = train[feature].apply(lambda x: re.findall(find, x)[0])\n",
    "    validation[feature] = validation[feature].apply(lambda x: re.findall(find, x)[0])\n",
    "    # Trim text\n",
    "    train[feature] = train[feature].apply(lambda x: x.strip())\n",
    "    validation[feature] = validation[feature].apply(lambda x: x.strip())"
   ]
  },
  {
   "cell_type": "markdown",
   "metadata": {},
   "source": [
    "## Train/validation sets"
   ]
  },
  {
   "cell_type": "code",
   "execution_count": 5,
   "metadata": {},
   "outputs": [
    {
     "name": "stdout",
     "output_type": "stream",
     "text": [
      "Train samples: 4863\n",
      "Validation samples: 1216\n"
     ]
    }
   ],
   "source": [
    "# Train features\n",
    "X_train_title = train['question_title']\n",
    "X_train_body = train['question_body']\n",
    "X_train_answer = train['answer']\n",
    "\n",
    "X_train = [X_train_title, X_train_body, X_train_answer]\n",
    "Y_train = train[target_cols].values\n",
    "\n",
    "# Validation features\n",
    "X_valid_title = validation['question_title']\n",
    "X_valid_body = validation['question_body']\n",
    "X_valid_answer = validation['answer']\n",
    "\n",
    "X_valid = [X_valid_title, X_valid_body, X_valid_answer]\n",
    "Y_valid = validation[target_cols].values\n",
    "\n",
    "print('Train samples: %d' % len(Y_train))\n",
    "print('Validation samples: %d' % len(Y_valid))"
   ]
  },
  {
   "cell_type": "markdown",
   "metadata": {},
   "source": [
    "# Model parameters"
   ]
  },
  {
   "cell_type": "code",
   "execution_count": 6,
   "metadata": {
    "_kg_hide-output": false
   },
   "outputs": [],
   "source": [
    "EPOCHS = 40\n",
    "BATCH_SIZE = 32\n",
    "LEARNING_RATE = 3e-4\n",
    "EMBEDDDING_SIZE = 512\n",
    "N_CLASS = len(target_cols)\n",
    "ES_PATIENCE = 3\n",
    "RLROP_PATIENCE = 2\n",
    "DECAY_DROP = 0.3\n",
    "module_url = '/kaggle/input/universalsentenceencodermodels/universal-sentence-encoder-models/use'\n",
    "model_path = '/kaggle/working/use.h5'"
   ]
  },
  {
   "cell_type": "markdown",
   "metadata": {},
   "source": [
    "# Model"
   ]
  },
  {
   "cell_type": "code",
   "execution_count": 7,
   "metadata": {},
   "outputs": [],
   "source": [
    "es = EarlyStopping(monitor='val_loss', mode='min', patience=ES_PATIENCE, restore_best_weights=True, verbose=1)\n",
    "rlrop = ReduceLROnPlateau(monitor='val_loss', mode='min', patience=RLROP_PATIENCE, factor=DECAY_DROP, min_lr=1e-6, verbose=1)\n",
    "use_embed = hub.load(module_url)\n",
    "\n",
    "def USEEmbedding(x):\n",
    "    return use_embed(tf.squeeze(tf.cast(x, tf.string)))"
   ]
  },
  {
   "cell_type": "code",
   "execution_count": 8,
   "metadata": {
    "_kg_hide-output": true
   },
   "outputs": [
    {
     "name": "stdout",
     "output_type": "stream",
     "text": [
      "Model: \"model\"\n",
      "__________________________________________________________________________________________________\n",
      "Layer (type)                    Output Shape         Param #     Connected to                     \n",
      "==================================================================================================\n",
      "input_title (InputLayer)        [(None, 1)]          0                                            \n",
      "__________________________________________________________________________________________________\n",
      "input_body (InputLayer)         [(None, 1)]          0                                            \n",
      "__________________________________________________________________________________________________\n",
      "input_answer (InputLayer)       [(None, 1)]          0                                            \n",
      "__________________________________________________________________________________________________\n",
      "lambda (Lambda)                 (None, 512)          0           input_title[0][0]                \n",
      "__________________________________________________________________________________________________\n",
      "lambda_1 (Lambda)               (None, 512)          0           input_body[0][0]                 \n",
      "__________________________________________________________________________________________________\n",
      "lambda_2 (Lambda)               (None, 512)          0           input_answer[0][0]               \n",
      "__________________________________________________________________________________________________\n",
      "concatenate (Concatenate)       (None, 1536)         0           lambda[0][0]                     \n",
      "                                                                 lambda_1[0][0]                   \n",
      "                                                                 lambda_2[0][0]                   \n",
      "__________________________________________________________________________________________________\n",
      "dropout (Dropout)               (None, 1536)         0           concatenate[0][0]                \n",
      "__________________________________________________________________________________________________\n",
      "dense (Dense)                   (None, 512)          786944      dropout[0][0]                    \n",
      "__________________________________________________________________________________________________\n",
      "dropout_1 (Dropout)             (None, 512)          0           dense[0][0]                      \n",
      "__________________________________________________________________________________________________\n",
      "output (Dense)                  (None, 30)           15390       dropout_1[0][0]                  \n",
      "==================================================================================================\n",
      "Total params: 802,334\n",
      "Trainable params: 802,334\n",
      "Non-trainable params: 0\n",
      "__________________________________________________________________________________________________\n"
     ]
    }
   ],
   "source": [
    "input_title = Input(shape=(1,), dtype=tf.string, name='input_title')\n",
    "embedding_title = Lambda(USEEmbedding, output_shape=(EMBEDDDING_SIZE,))(input_title)\n",
    "\n",
    "input_body = Input(shape=(1,), dtype=tf.string, name='input_body')\n",
    "embedding_body = Lambda(USEEmbedding, output_shape=(EMBEDDDING_SIZE,))(input_body)\n",
    "\n",
    "input_answer = Input(shape=(1,), dtype=tf.string, name='input_answer')\n",
    "embedding_answer = Lambda(USEEmbedding, output_shape=(EMBEDDDING_SIZE,))(input_answer)\n",
    "\n",
    "x = Concatenate()([embedding_title, embedding_body, embedding_answer])\n",
    "x = Dropout(0.5)(x)\n",
    "x = Dense(512, activation='relu')(x)\n",
    "x = Dropout(0.5)(x)\n",
    "output = Dense(N_CLASS, activation='sigmoid', name='output')(x)\n",
    "model = Model(inputs=[input_title, input_body, input_answer], outputs=[output])\n",
    "\n",
    "model.summary()"
   ]
  },
  {
   "cell_type": "markdown",
   "metadata": {},
   "source": [
    "# Train model"
   ]
  },
  {
   "cell_type": "code",
   "execution_count": 9,
   "metadata": {
    "_kg_hide-output": true
   },
   "outputs": [
    {
     "name": "stdout",
     "output_type": "stream",
     "text": [
      "Train on 4863 samples, validate on 1216 samples\n",
      "Epoch 1/40\n",
      "Train spearman-rho: 0.1825 Validation spearman-rho: 0.1701\n",
      "4863/4863 - 18s - loss: 0.5073 - val_loss: 0.4221\n",
      "Epoch 2/40\n",
      "Train spearman-rho: 0.2562 Validation spearman-rho: 0.2308\n",
      "4863/4863 - 10s - loss: 0.4132 - val_loss: 0.4058\n",
      "Epoch 3/40\n",
      "Train spearman-rho: 0.2981 Validation spearman-rho: 0.2637\n",
      "4863/4863 - 10s - loss: 0.4017 - val_loss: 0.3990\n",
      "Epoch 4/40\n",
      "Train spearman-rho: 0.3220 Validation spearman-rho: 0.2784\n",
      "4863/4863 - 9s - loss: 0.3953 - val_loss: 0.3952\n",
      "Epoch 5/40\n",
      "Train spearman-rho: 0.3407 Validation spearman-rho: 0.2880\n",
      "4863/4863 - 10s - loss: 0.3911 - val_loss: 0.3926\n",
      "Epoch 6/40\n",
      "Train spearman-rho: 0.3555 Validation spearman-rho: 0.2944\n",
      "4863/4863 - 10s - loss: 0.3881 - val_loss: 0.3909\n",
      "Epoch 7/40\n",
      "Train spearman-rho: 0.3667 Validation spearman-rho: 0.2984\n",
      "4863/4863 - 10s - loss: 0.3858 - val_loss: 0.3895\n",
      "Epoch 8/40\n",
      "Train spearman-rho: 0.3768 Validation spearman-rho: 0.3010\n",
      "4863/4863 - 9s - loss: 0.3833 - val_loss: 0.3885\n",
      "Epoch 9/40\n",
      "Train spearman-rho: 0.3863 Validation spearman-rho: 0.3035\n",
      "4863/4863 - 9s - loss: 0.3815 - val_loss: 0.3880\n",
      "Epoch 10/40\n",
      "Train spearman-rho: 0.3932 Validation spearman-rho: 0.3044\n",
      "4863/4863 - 9s - loss: 0.3800 - val_loss: 0.3872\n",
      "Epoch 11/40\n",
      "Train spearman-rho: 0.4011 Validation spearman-rho: 0.3058\n",
      "4863/4863 - 9s - loss: 0.3786 - val_loss: 0.3870\n",
      "Epoch 12/40\n",
      "Train spearman-rho: 0.4068 Validation spearman-rho: 0.3072\n",
      "4863/4863 - 9s - loss: 0.3774 - val_loss: 0.3867\n",
      "Epoch 13/40\n",
      "Train spearman-rho: 0.4124 Validation spearman-rho: 0.3070\n",
      "4863/4863 - 9s - loss: 0.3762 - val_loss: 0.3863\n",
      "Epoch 14/40\n",
      "Train spearman-rho: 0.4174 Validation spearman-rho: 0.3080\n",
      "4863/4863 - 9s - loss: 0.3758 - val_loss: 0.3861\n",
      "Epoch 15/40\n",
      "Train spearman-rho: 0.4226 Validation spearman-rho: 0.3095\n",
      "4863/4863 - 9s - loss: 0.3750 - val_loss: 0.3860\n",
      "Epoch 16/40\n",
      "Train spearman-rho: 0.4269 Validation spearman-rho: 0.3107\n",
      "4863/4863 - 9s - loss: 0.3740 - val_loss: 0.3856\n",
      "Epoch 17/40\n",
      "Train spearman-rho: 0.4311 Validation spearman-rho: 0.3117\n",
      "4863/4863 - 9s - loss: 0.3730 - val_loss: 0.3854\n",
      "Epoch 18/40\n",
      "Train spearman-rho: 0.4347 Validation spearman-rho: 0.3118\n",
      "4863/4863 - 9s - loss: 0.3723 - val_loss: 0.3853\n",
      "Epoch 19/40\n",
      "Train spearman-rho: 0.4387 Validation spearman-rho: 0.3125\n",
      "4863/4863 - 9s - loss: 0.3716 - val_loss: 0.3853\n",
      "Epoch 20/40\n",
      "Train spearman-rho: 0.4433 Validation spearman-rho: 0.3137\n",
      "4863/4863 - 9s - loss: 0.3714 - val_loss: 0.3849\n",
      "Epoch 21/40\n",
      "Train spearman-rho: 0.4464 Validation spearman-rho: 0.3143\n",
      "4863/4863 - 9s - loss: 0.3697 - val_loss: 0.3849\n",
      "Epoch 22/40\n",
      "Train spearman-rho: 0.4495 Validation spearman-rho: 0.3146\n",
      "4863/4863 - 9s - loss: 0.3694 - val_loss: 0.3848\n",
      "Epoch 23/40\n",
      "Train spearman-rho: 0.4529 Validation spearman-rho: 0.3153\n",
      "4863/4863 - 9s - loss: 0.3685 - val_loss: 0.3847\n",
      "Epoch 24/40\n",
      "Train spearman-rho: 0.4560 Validation spearman-rho: 0.3157\n",
      "4863/4863 - 9s - loss: 0.3688 - val_loss: 0.3846\n",
      "Epoch 25/40\n",
      "Train spearman-rho: 0.4589 Validation spearman-rho: 0.3157\n",
      "4863/4863 - 9s - loss: 0.3683 - val_loss: 0.3845\n",
      "Epoch 26/40\n",
      "\n",
      "Epoch 00026: ReduceLROnPlateau reducing learning rate to 9.000000427477062e-05.\n",
      "Train spearman-rho: 0.4627 Validation spearman-rho: 0.3165\n",
      "4863/4863 - 9s - loss: 0.3677 - val_loss: 0.3845\n",
      "Epoch 27/40\n",
      "Train spearman-rho: 0.4638 Validation spearman-rho: 0.3166\n",
      "4863/4863 - 9s - loss: 0.3665 - val_loss: 0.3843\n",
      "Epoch 28/40\n",
      "Train spearman-rho: 0.4648 Validation spearman-rho: 0.3170\n",
      "4863/4863 - 9s - loss: 0.3662 - val_loss: 0.3842\n",
      "Epoch 29/40\n",
      "\n",
      "Epoch 00029: ReduceLROnPlateau reducing learning rate to 2.700000040931627e-05.\n",
      "Train spearman-rho: 0.4658 Validation spearman-rho: 0.3171\n",
      "4863/4863 - 9s - loss: 0.3658 - val_loss: 0.3843\n",
      "Epoch 30/40\n",
      "Train spearman-rho: 0.4661 Validation spearman-rho: 0.3171\n",
      "4863/4863 - 9s - loss: 0.3657 - val_loss: 0.3842\n",
      "Epoch 31/40\n",
      "\n",
      "Epoch 00031: ReduceLROnPlateau reducing learning rate to 8.100000013655517e-06.\n",
      "Train spearman-rho: 0.4664 Validation spearman-rho: 0.3173\n",
      "4863/4863 - 9s - loss: 0.3656 - val_loss: 0.3842\n",
      "Epoch 32/40\n",
      "Train spearman-rho: 0.4665 Validation spearman-rho: 0.3173\n",
      "4863/4863 - 9s - loss: 0.3649 - val_loss: 0.3842\n",
      "Epoch 33/40\n",
      "Train spearman-rho: 0.4666 Validation spearman-rho: 0.3173\n",
      "4863/4863 - 9s - loss: 0.3649 - val_loss: 0.3842\n",
      "Epoch 34/40\n",
      "Train spearman-rho: 0.4667 Validation spearman-rho: 0.3173\n",
      "4863/4863 - 9s - loss: 0.3651 - val_loss: 0.3842\n",
      "Epoch 35/40\n",
      "\n",
      "Epoch 00035: ReduceLROnPlateau reducing learning rate to 2.429999949526973e-06.\n",
      "Train spearman-rho: 0.4668 Validation spearman-rho: 0.3174\n",
      "4863/4863 - 9s - loss: 0.3656 - val_loss: 0.3842\n",
      "Epoch 36/40\n",
      "Train spearman-rho: 0.4668 Validation spearman-rho: 0.3174\n",
      "4863/4863 - 9s - loss: 0.3646 - val_loss: 0.3842\n",
      "Epoch 37/40\n",
      "\n",
      "Epoch 00037: ReduceLROnPlateau reducing learning rate to 1e-06.\n",
      "Train spearman-rho: 0.4668 Validation spearman-rho: 0.3174\n",
      "4863/4863 - 9s - loss: 0.3652 - val_loss: 0.3842\n",
      "Epoch 38/40\n",
      "Train spearman-rho: 0.4668 Validation spearman-rho: 0.3174\n",
      "4863/4863 - 10s - loss: 0.3656 - val_loss: 0.3842\n",
      "Epoch 39/40\n",
      "Train spearman-rho: 0.4668 Validation spearman-rho: 0.3174\n",
      "4863/4863 - 9s - loss: 0.3650 - val_loss: 0.3842\n",
      "Epoch 40/40\n",
      "Train spearman-rho: 0.4668 Validation spearman-rho: 0.3174\n",
      "4863/4863 - 9s - loss: 0.3651 - val_loss: 0.3842\n"
     ]
    }
   ],
   "source": [
    "optimizer = optimizers.Adam(LEARNING_RATE)\n",
    "spearmanCallback = SpearmanRhoCallback(training_data=(X_train, Y_train), validation_data=(X_valid, Y_valid))\n",
    "callback_list = [es, rlrop, spearmanCallback]\n",
    "model.compile(optimizer=optimizer, loss='binary_crossentropy')\n",
    "\n",
    "history = model.fit(X_train, Y_train, \n",
    "                    validation_data=(X_valid, Y_valid), \n",
    "                    callbacks=callback_list, \n",
    "                    batch_size=BATCH_SIZE,\n",
    "                    epochs=EPOCHS, \n",
    "                    verbose=2).history"
   ]
  },
  {
   "cell_type": "markdown",
   "metadata": {},
   "source": [
    "## Model loss graph"
   ]
  },
  {
   "cell_type": "code",
   "execution_count": 10,
   "metadata": {
    "_kg_hide-input": true
   },
   "outputs": [
    {
     "data": {
      "image/png": "[encoded data removed]",
      "text/plain": [
       "<Figure size 1728x720 with 2 Axes>"
      ]
     },
     "metadata": {},
     "output_type": "display_data"
    }
   ],
   "source": [
    "sns.set(style=\"whitegrid\")\n",
    "for key in spearmanCallback.history.keys():\n",
    "    history[key] = spearmanCallback.history[key]\n",
    "\n",
    "plot_metrics(history, metric_list=['loss', 'spearman'])"
   ]
  },
  {
   "cell_type": "markdown",
   "metadata": {},
   "source": [
    "# Evaluation"
   ]
  },
  {
   "cell_type": "code",
   "execution_count": 11,
   "metadata": {
    "_kg_hide-input": true
   },
   "outputs": [
    {
     "name": "stdout",
     "output_type": "stream",
     "text": [
      "Train spearman-rho: 0.467\n",
      "Validation spearman-rho: 0.317\n"
     ]
    }
   ],
   "source": [
    "preds_train = model.predict(X_train)\n",
    "preds_val = model.predict(X_valid)\n",
    "\n",
    "rho_train = np.mean([spearmanr(Y_train[:, ind], preds_train[:, ind] + np.random.normal(0, 1e-7, preds_train.shape[0])).correlation for ind in range(preds_train.shape[1])])\n",
    "rho_val = np.mean([spearmanr(Y_valid[:, ind], preds_val[:, ind] + np.random.normal(0, 1e-7, preds_val.shape[0])).correlation for ind in range(preds_val.shape[1])])\n",
    "\n",
    "print('Train spearman-rho: %.3f' % rho_train)\n",
    "print('Validation spearman-rho: %.3f' % rho_val)"
   ]
  },
  {
   "cell_type": "markdown",
   "metadata": {},
   "source": [
    "#### Save model weights"
   ]
  },
  {
   "cell_type": "code",
   "execution_count": 12,
   "metadata": {},
   "outputs": [],
   "source": [
    "model.save_weights(model_path)"
   ]
  }
 ],
 "metadata": {
  "kernelspec": {
   "display_name": "Python 3",
   "language": "python",
   "name": "python3"
  },
  "language_info": {
   "codemirror_mode": {
    "name": "ipython",
    "version": 3
   },
   "file_extension": ".py",
   "mimetype": "text/x-python",
   "name": "python",
   "nbconvert_exporter": "python",
   "pygments_lexer": "ipython3",
   "version": "3.6.6"
  }
 },
 "nbformat": 4,
 "nbformat_minor": 1
}
